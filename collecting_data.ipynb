{
 "cells": [
  {
   "cell_type": "markdown",
   "metadata": {},
   "source": [
    "# Collecting Data\n",
    "\n",
    "The foundation of your project will be to collect appropriate data for the problem you are trying to solve. There is incredible versatility in how you can use an machine learning model. Some examples might be to predict the next social media trend, categorizing cancer cells, trying to better understand the relationship between temperature fluctuations and coffee bean growth rates, or creating a chat bot.\n",
    "\n",
    "Since we are very early in this course, and - most likely at this point - have not discussed many models, it may be difficult to know what you can do with a dataset, or what is in scope of this course. So by the nature of the course title \"Exploring Machine Learning\" we will take an explorative approach to your project. \n",
    "\n",
    "The goal of this part of the project is to explore what data sets you might be interested in, below will be questions to help guide you to selecting a category of data that you want to further explore."
   ]
  },
  {
   "cell_type": "markdown",
   "metadata": {},
   "source": [
    "## Identifying what data you want to explore\n",
    "\n",
    "Data is everywhere and there seems to be data on about anything. You might know exactly what you want to dive deeper into or you might have no idea. Either way I invite you answer the questions below.\n",
    "\n",
    "Below create a python dictionary with the key being a short summary of the topic of interest, while the value is an explanation of your interest - such as why you are interested in this topic, or why do you feel a strong passion to understand this topic. A topic of interest could be research you are conducting, a topic you are studying at your job, hobbies you have or topics surrounding your identities.\n",
    "\n",
    "List 5 topics, and for each topic put at least a 50 word description.\n",
    "\n",
    "For example I might put:\n",
    "\n",
    "```python\n",
    "interests = {\n",
    "    \"Cats\" : \"I have two cats at home, they are basically my children. I would generally like to learn more about cat behavior, health trends and pet owner behavior. It may be interesting to also see industry trends of cat owner, or how they compare to dog owners. Maybe later I want to start to write an app that recognizes cat breeds\",\n",
    "\n",
    "    \"Scuba\" : \"The study of scuba diving seems to be a 'soft' science, and there are general guidelines on when and how long you should do safety stops to avoid getting decompression sickness. Could there be links to human anatomy or behavior on how deep a person should go safely during a dive?\",\n",
    "}\n",
    "```"
   ]
  },
  {
   "cell_type": "code",
   "execution_count": 6,
   "metadata": {},
   "outputs": [],
   "source": [
    "# Do not edit the name of this function, it will be used for grading\n",
    "def what_are_topics_you_are_interested_in():\n",
    "    interests = {\n",
    "        \"Basketball\": \"I've played and been a fan of basketball for many years now. \" +\n",
    "                        \"Mostly am a fan of nba basketball but college can be entertaining as well. \" +\n",
    "                        \"These days, there is more to sports analytics than just statistics with the introduction of \" +\n",
    "                        \"player-tracking technology. I'd be interested in using public datasets or even building \" +\n",
    "                        \"my own via web-scraping the official nba website.\",\n",
    "        \"Soccer\": \"Another sport I enjoy watching or playing is soccer. Soccer is a team sport and requires a ton of skill. \" +\n",
    "                    \"Although there is not much official stat-keeping for players, there is independently organized \" +\n",
    "                    \"advanced statistical datasets that exist. I'm interested because it is a fun sport filled with complexities \"\n",
    "                    + \"such as counterattacking, maintaining position, and defending.\",\n",
    "        \"Movies\": \"I enjoy watching movies although have not been partaking as much during my studies. I enjoy streaming movies, \" +\n",
    "                    \"tv shows, and live sports. It is always interesting to see which streaming service has the rights to which \" +\n",
    "                    \"shows. It's also interesting to see how shows/movies status on the streaming platform changes over time. There \" +\n",
    "                    \"was much talk in the last decade about how the Netflix recommendation algorithm works.\",\n",
    "        \"Economics\": \"Economics is an interesting topic that deals with many metrics related to a country or smaller entity. I have \" +\n",
    "                    \"taken a few courses in micro/macro economics. It is a social scinece that studies the production, distribution, \" +\n",
    "                    \"and consumption of goods and services. Some of the macroeconomic metrics include GDP, import/export of goods, job \" +\n",
    "                    \"reports. One goal could be to try to predict future economic releases based on past performance.\",\n",
    "        \"Housing\": \"Housing market data would be interesting to study as there are many data points to study. Housing prices have been \" +\n",
    "                    \"high for quite some time, but maybe there are in the U.S. where prices are relatively low. It would be interesting \" +\n",
    "                    \"to build a model that predicts how much a house is worth or could be sold for based on geographic location. As a \" +\n",
    "                    \"beginner to machine learning, it could help me understand how ML models and algorithms work on a simple data set.\",\n",
    "        \"Mathematics\": \"As I'm a math major currently, I'd be interested in looking at different datasets over a range of topics. \" +\n",
    "                    \"Some topics include teaching AI to predict results of complicated formulas, math education, mathematician or \" +\n",
    "                    \"academic paper tracking. Tasks such as performing division/multiplication of floating point numbers or performing \" +\n",
    "                    \"algorithmic sorting can be slow. Maybe with enough data and the right machine learning algorithm, the machine can \" +\n",
    "                    \"predict a solution that brings the problem orders of magnitude closer to the actual solution.\"\n",
    "\n",
    "    } # Fill out your interests\n",
    "    return interests\n",
    "# Note: you can use the \\ symbol to continue your string to the next line, this makes \n",
    "# things look a bit prettier\n",
    "# Example:\n",
    "print(\"This is an \\\n",
    "      extended string \")"
   ]
  },
  {
   "cell_type": "markdown",
   "metadata": {},
   "source": [
    "## Do datasets exist for my interests?\n",
    "\n",
    "There is lots of data out there but not for everything. Below are some websites where you can take a look at available datasets. Go ahead and search for datasets related to your topic. Are there many data sets surrounding your topic? Are there many different types of data like categorical, regression, images, etc? If there are limited data sets, do you feel comfortable with the challenge of creating your own data? (Note creating your own data set to supplement existing datasets will increase your score on this assignment)\n",
    "\n",
    "> You can find a link to databases on the course page!\n",
    "\n",
    "For 3 of your topics find 3 databases you might want to use for your project. Below create a dictionary with the keys being the topic values you listed above and the value a link of 3 data bases you would like to explore. If you would like to make your own data too make add a string \"Create my own data\" to the end of the list\n",
    "\n",
    "Note, if you have trouble finding datasets for your topic you can make your dataset more general, or try a different topic. For example for my \"Cats\" topic I could expand it to \"Pets\", \"Pet Toy Sales\" or \"Pet Health Benefits\"\n",
    "\n",
    "You can always change your topic and dataset later, so don't feel that these decisions are permanent.\n",
    "\n",
    "While searching did it generate any ideas on interests or data sets you would like to explore? - If so you can add or replace a topic to the dictionary above!\n",
    "\n",
    "\n",
    "Example\"\n",
    "\n",
    "```python\n",
    "datasets = {\n",
    "    \"Cats\" : [\"https://www.kaggle.com/datasets/ma7555/cat-breeds-dataset\", \"https://example.com\", \"https://example.com\", \"Create my own data\"],\n",
    "\n",
    "    \"Second Topic\": [\"https://example.com\", \"https://example.com\", \"https://example.com\"],\n",
    "    \n",
    "    \"Third Topic\" : [\"https://example.com\", \"https://example.com\", \"https://example.com\"]\n",
    "}\n",
    "```\n"
   ]
  },
  {
   "cell_type": "code",
   "execution_count": 7,
   "metadata": {},
   "outputs": [],
   "source": [
    "def find_some_datasets():\n",
    "    datasets = {\n",
    "        \"Basketball\": [\"create own player stats dataset from https://www.nba.com\", \n",
    "                       \"https://www.kaggle.com/datasets/szymonjwiak/nba-2022-2023-advanced-boxscores\", \n",
    "                       \"https://www.kaggle.com/datasets/nathanlauga/nba-games\"],\n",
    "        \"Movies\": [\"https://www.kaggle.com/datasets/shivamb/netflix-shows\", \n",
    "                         \"https://www.kaggle.com/datasets/shivamb/amazon-prime-movies-and-tv-shows\", \n",
    "                         \"https://www.kaggle.com/datasets/shivamb/hulu-movies-and-tv-shows\"],\n",
    "        \"Housing\": [\"https://www.kaggle.com/datasets/austinreese/usa-housing-listings\", \n",
    "                    \"https://www.kaggle.com/datasets/hm-land-registry/uk-housing-prices-paid\", \n",
    "                    \"https://www.kaggle.com/datasets/zillow/zecon\"]\n",
    "    }\n",
    "    return datasets"
   ]
  },
  {
   "cell_type": "markdown",
   "metadata": {},
   "source": [
    "## Asking questions about your dataset\n",
    "\n",
    "Some questions you might want to ask for each dataset are:\n",
    "- Who created this dataset?\n",
    "- When was this dataset created?\n",
    "- Could there be any biases when creating this dataset?\n",
    "- How was this data collected?\n",
    "- Is this data representative of the problem I am trying to solve?\n"
   ]
  }
 ],
 "metadata": {
  "kernelspec": {
   "display_name": "Python 3",
   "language": "python",
   "name": "python3"
  },
  "language_info": {
   "codemirror_mode": {
    "name": "ipython",
    "version": 3
   },
   "file_extension": ".py",
   "mimetype": "text/x-python",
   "name": "python",
   "nbconvert_exporter": "python",
   "pygments_lexer": "ipython3",
   "version": "3.10.9"
  }
 },
 "nbformat": 4,
 "nbformat_minor": 2
}
